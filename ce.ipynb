{
 "cells": [
  {
   "cell_type": "code",
   "execution_count": 6,
   "id": "c2eb0a1a",
   "metadata": {},
   "outputs": [
    {
     "name": "stdout",
     "output_type": "stream",
     "text": [
      "Dataset : \n",
      "        0     1       2       3     4       5  6\n",
      "0  sunny  warm  normal  strong  warm    same  1\n",
      "1  sunny  warm    high  strong  warm    same  1\n",
      "2  rainy  cold    high  strong  warm  change  0\n",
      "3  sunny  warm    high  strong  cool  change  1\n",
      "concepts :\n",
      " [['sunny' 'warm' 'normal' 'strong' 'warm' 'same']\n",
      " ['sunny' 'warm' 'high' 'strong' 'warm' 'same']\n",
      " ['rainy' 'cold' 'high' 'strong' 'warm' 'change']\n",
      " ['sunny' 'warm' 'high' 'strong' 'cool' 'change']]\n",
      "target :\n",
      " [1 1 0 1]\n",
      "initialization of specific_h\n",
      "['sunny' 'warm' 'normal' 'strong' 'warm' 'same']\n",
      "initialization of general_h\n",
      "[['?', '?', '?', '?', '?', '?'], ['?', '?', '?', '?', '?', '?'], ['?', '?', '?', '?', '?', '?'], ['?', '?', '?', '?', '?', '?'], ['?', '?', '?', '?', '?', '?'], ['?', '?', '?', '?', '?', '?']]\n",
      "specific hypothesis\n",
      "['sunny' 'warm' '?' 'strong' '?' '?']\n",
      "general_h\n",
      "[['sunny', '?', '?', '?', '?', '?'], ['?', 'warm', '?', '?', '?', '?'], ['?', '?', '?', '?', '?', '?'], ['?', '?', '?', '?', '?', '?'], ['?', '?', '?', '?', '?', '?'], ['?', '?', '?', '?', '?', '?']]\n",
      "final specific_h: ['sunny' 'warm' '?' 'strong' '?' '?']\n",
      "final general_h: [['sunny', '?', '?', '?', '?', '?'], ['?', 'warm', '?', '?', '?', '?']]\n"
     ]
    }
   ],
   "source": [
    "import numpy as np\n",
    "import pandas as pd\n",
    "def learn(concepts,target):\n",
    "    specific_h=concepts[0].copy()\n",
    "    print(\"initialization of specific_h\")\n",
    "    print(specific_h)\n",
    "    print(\"initialization of general_h\")\n",
    "    general_h=[[\"?\" for i in range(len(specific_h))]for i in range(len(specific_h))]\n",
    "    print(general_h)\n",
    "    for i,h in enumerate(concepts):\n",
    "        if target[i] == 1:\n",
    "            for x in range(len(specific_h)):\n",
    "                if h[x] != specific_h[x]:\n",
    "                    specific_h[x]='?'\n",
    "                    general_h[x][x]= '?'\n",
    "        if target[i]==0:\n",
    "            for x in range(len(specific_h)):\n",
    "                if h[x] != specific_h[x]:\n",
    "                    general_h[x][x]=specific_h[x]\n",
    "                else:\n",
    "                    general_h[x][x]='?'\n",
    "    print(\"specific hypothesis\")\n",
    "    print(specific_h)\n",
    "    print(\"general_h\")\n",
    "    print(general_h)\n",
    "    indices=[i for i,val in enumerate(general_h) if val ==['?','?','?','?','?','?']]\n",
    "    for i in indices:\n",
    "        general_h.remove(['?','?','?','?','?','?'])\n",
    "    return specific_h,general_h\n",
    "data=pd.read_csv('candidate.csv',header=None)\n",
    "data=pd.DataFrame(data)\n",
    "print(\"Dataset : \\n\",data)\n",
    "concepts=np.array(data.iloc[:,0:-1])\n",
    "target=np.array(data.iloc[:,-1])\n",
    "print(\"concepts :\\n\",concepts)\n",
    "print(\"target :\\n\",target)\n",
    "s_final,g_final=learn(concepts, target)\n",
    "print(\"final specific_h:\",s_final)\n",
    "print(\"final general_h:\",g_final)"
   ]
  }
 ],
 "metadata": {
  "kernelspec": {
   "display_name": "Python 3 (ipykernel)",
   "language": "python",
   "name": "python3"
  },
  "language_info": {
   "codemirror_mode": {
    "name": "ipython",
    "version": 3
   },
   "file_extension": ".py",
   "mimetype": "text/x-python",
   "name": "python",
   "nbconvert_exporter": "python",
   "pygments_lexer": "ipython3",
   "version": "3.11.5"
  }
 },
 "nbformat": 4,
 "nbformat_minor": 5
}

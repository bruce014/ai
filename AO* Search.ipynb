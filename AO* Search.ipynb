{
 "cells": [
  {
   "cell_type": "code",
   "execution_count": 36,
   "id": "11d1050b",
   "metadata": {},
   "outputs": [],
   "source": [
    "MAX = 1000\n",
    "\n",
    "class Node:\n",
    "    def __init__(self, index, cost, visited = False, solved = False, and_map = False):\n",
    "        self.index = index\n",
    "        self.cost = cost\n",
    "        self.visited = visited\n",
    "        self.solved = solved\n",
    "        self.and_map = and_map\n",
    "        self.children = None\n",
    "        self.path = False\n",
    "        \n",
    "    def __str__(self):\n",
    "        return f'{self.index}: {self.cost}'\n",
    "    \n",
    "    def set_children(self, ch):\n",
    "        self.children = ch"
   ]
  },
  {
   "cell_type": "code",
   "execution_count": 37,
   "id": "8af3d06d",
   "metadata": {},
   "outputs": [
    {
     "name": "stdout",
     "output_type": "stream",
     "text": [
      "0 cost None and False solved True\n",
      "1 cost 0 and False solved False\n",
      "2 cost 6 and True solved False\n",
      "3 cost 12 and True solved False\n",
      "4 cost 9 and False solved False\n",
      "5 cost 5 and False solved False\n",
      "6 cost 7 and False solved True\n",
      "7 cost 1 and False solved True\n",
      "8 cost 4 and True solved True\n",
      "9 cost 4 and True solved True\n",
      "10 cost 1 and False solved True\n"
     ]
    }
   ],
   "source": [
    "#use case 1\n",
    "adj = []\n",
    "EDGE = 1\n",
    "n_nodes = 10\n",
    "\n",
    "cost = [None, 0,6,12,9,5,7,1,4,4,1]\n",
    "children = {1:[2,3,4], 2:[5,6,], 3:[7], 4:[8,9], 5:[10]}\n",
    "\n",
    "adj = [Node(i, cost[i]) for i in range(n_nodes+1)]\n",
    "for p,ch in children.items():\n",
    "    ch_nodes = [adj[c] for c in ch]\n",
    "    adj[p].set_children(ch_nodes)\n",
    "    \n",
    "and_edges = {}\n",
    "and_edges[adj[1]] = (adj[2], adj[3])\n",
    "and_edges[adj[4]] = (adj[8], adj[9])\n",
    "\n",
    "for a in and_edges.values():\n",
    "    for node in a:node.and_map = True\n",
    "        \n",
    "for a in adj:\n",
    "    if not a.children: a.solved = True\n",
    "#     print(a.children)\n",
    "    print(f'{a.index} cost {a.cost} and {a.and_map} solved {a.solved}')"
   ]
  },
  {
   "cell_type": "code",
   "execution_count": 31,
   "id": "4b7744b2",
   "metadata": {},
   "outputs": [
    {
     "name": "stdout",
     "output_type": "stream",
     "text": [
      "0 cost None and False solved True\n",
      "1 cost 0 and False solved False\n",
      "2 cost 40 and False solved False\n",
      "3 cost 2 and True solved False\n",
      "4 cost 4 and True solved False\n",
      "5 cost 1 and True solved False\n",
      "6 cost 2 and True solved False\n",
      "7 cost 3 and True solved False\n",
      "8 cost 50 and False solved False\n",
      "9 cost 60 and False solved False\n",
      "10 cost 70 and False solved False\n",
      "11 cost 80 and False solved False\n",
      "12 cost 4 and False solved True\n",
      "13 cost 5 and False solved True\n",
      "14 cost 8 and False solved True\n",
      "15 cost 9 and False solved True\n",
      "16 cost 6 and False solved True\n",
      "17 cost 7 and False solved True\n",
      "18 cost 90 and False solved True\n",
      "19 cost 90 and False solved True\n",
      "20 cost 90 and False solved True\n",
      "21 cost 90 and False solved True\n"
     ]
    }
   ],
   "source": [
    "#use case 2\n",
    "adj = []\n",
    "EDGE = 5\n",
    "n_nodes = 21\n",
    "\n",
    "cost = [None, 0,40,2,4,1,2,3,50,60,70,80,4,5,8,9,6,7,90,90,90,90]\n",
    "children = {1:[2,3,4], 2:[5,6,7], 3:[8,9], 4:[10,11], 5:[12,13], 6:[14,15], 7:[16,17], 8:[18], 9:[19], 10:[20], 11:[21]}\n",
    "\n",
    "adj = [Node(i, cost[i]) for i in range(n_nodes+1)]\n",
    "for p,ch in children.items():\n",
    "    ch_nodes = [adj[c] for c in ch]\n",
    "    adj[p].set_children(ch_nodes)\n",
    "    \n",
    "and_edges = {}\n",
    "and_edges[adj[1]] = (adj[3], adj[4])\n",
    "and_edges[adj[2]] = (adj[5], adj[6], adj[7])\n",
    "\n",
    "for a in and_edges.values():\n",
    "    for node in a:node.and_map = True\n",
    "        \n",
    "for a in adj:\n",
    "    if not a.children: a.solved = True\n",
    "#     print(a.children)\n",
    "    print(f'{a.index} cost {a.cost} and {a.and_map} solved {a.solved}')"
   ]
  },
  {
   "cell_type": "code",
   "execution_count": 38,
   "id": "5112c70f",
   "metadata": {},
   "outputs": [],
   "source": [
    "def Cost(c, head):\n",
    "    if c.and_map:\n",
    "        ae = and_edges[head]\n",
    "        cc = sum(aek.cost + EDGE for aek in ae)\n",
    "        solved = all([aek.solved for aek in ae])\n",
    "        \n",
    "        return ae, cc, solved\n",
    "    \n",
    "    else:\n",
    "        cc = c.cost + EDGE\n",
    "        return (c,), cc, c.solved"
   ]
  },
  {
   "cell_type": "code",
   "execution_count": 39,
   "id": "68cc57aa",
   "metadata": {},
   "outputs": [],
   "source": [
    "def aostarUtil(head):\n",
    "    ch = {}\n",
    "    \n",
    "    for c in head.children:\n",
    "        nn, cc, solved = Cost(c, head)\n",
    "        if solved: head.solved = solved\n",
    "                \n",
    "        print(head.index, 'child', c.index, cc, head.solved)\n",
    "        c.path = False; ch[nn]=cc\n",
    "                \n",
    "    head.cost = min(ch.values())\n",
    "    best = min(ch, key=ch.get)\n",
    "    if head.solved:\n",
    "        for b in best: b.path = True\n",
    "            \n",
    "    if not head.visited:\n",
    "        head.visited = True; head.path = True;\n",
    "        return\n",
    "    \n",
    "    print(f'Explore Head: {head.index} updated cost {head.cost} solved {head.solved}')\n",
    "    print(type(best))\n",
    "    \n",
    "    for b in best:\n",
    "        b.path = True\n",
    "        if not b.solved: aostarUtil(b);"
   ]
  },
  {
   "cell_type": "code",
   "execution_count": 40,
   "id": "e8ccc0f8",
   "metadata": {},
   "outputs": [
    {
     "name": "stdout",
     "output_type": "stream",
     "text": [
      "\n",
      " **Iteration 0\n",
      "1 child 2 20 False\n",
      "1 child 3 20 False\n",
      "1 child 4 10 False\n",
      "\n",
      " **Iteration 1\n",
      "1 child 2 20 False\n",
      "1 child 3 20 False\n",
      "1 child 4 10 False\n",
      "Explore Head: 1 updated cost 10 solved False\n",
      "<class 'tuple'>\n",
      "4 child 8 10 True\n",
      "4 child 9 10 True\n",
      "\n",
      " **Iteration 2\n",
      "1 child 2 20 False\n",
      "1 child 3 20 False\n",
      "1 child 4 11 True\n",
      "Explore Head: 1 updated cost 11 solved True\n",
      "<class 'tuple'>\n"
     ]
    }
   ],
   "source": [
    "def aostar(head):\n",
    "    iter = 0\n",
    "    while not head.solved and iter<MAX:\n",
    "        print(f'\\n **Iteration {iter}')\n",
    "        aostarUtil(head)\n",
    "        iter+=1\n",
    "        \n",
    "aostar(adj[1])"
   ]
  },
  {
   "cell_type": "code",
   "execution_count": 41,
   "id": "41387f04",
   "metadata": {},
   "outputs": [
    {
     "name": "stdout",
     "output_type": "stream",
     "text": [
      "Cost of Solution: 11\n",
      "Path\n",
      "1 cost: 11\n",
      "4 cost: 10\n",
      "8 cost: 4\n",
      "9 cost: 4\n"
     ]
    }
   ],
   "source": [
    "print(f'Cost of Solution: {adj[1].cost}')\n",
    "print(\"Path\")\n",
    "for a in adj:\n",
    "    if a.path: print(f'{a.index} cost: {a.cost}')"
   ]
  },
  {
   "cell_type": "code",
   "execution_count": null,
   "id": "7f777286",
   "metadata": {},
   "outputs": [],
   "source": []
  },
  {
   "cell_type": "code",
   "execution_count": null,
   "id": "618fa318",
   "metadata": {},
   "outputs": [],
   "source": []
  }
 ],
 "metadata": {
  "kernelspec": {
   "display_name": "Python 3 (ipykernel)",
   "language": "python",
   "name": "python3"
  },
  "language_info": {
   "codemirror_mode": {
    "name": "ipython",
    "version": 3
   },
   "file_extension": ".py",
   "mimetype": "text/x-python",
   "name": "python",
   "nbconvert_exporter": "python",
   "pygments_lexer": "ipython3",
   "version": "3.9.13"
  }
 },
 "nbformat": 4,
 "nbformat_minor": 5
}

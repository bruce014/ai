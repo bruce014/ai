{
 "cells": [
  {
   "cell_type": "code",
   "execution_count": 33,
   "id": "c18f60be",
   "metadata": {},
   "outputs": [
    {
     "data": {
      "text/plain": [
       "1.0283208335737188"
      ]
     },
     "execution_count": 33,
     "metadata": {},
     "output_type": "execute_result"
    }
   ],
   "source": [
    "-(1/3)*math.log(1/3, 2) - (1/2)*math.log(1/2, 2)"
   ]
  },
  {
   "cell_type": "code",
   "execution_count": 34,
   "id": "a6f86654",
   "metadata": {},
   "outputs": [
    {
     "data": {
      "text/plain": [
       "-1.012"
      ]
     },
     "execution_count": 34,
     "metadata": {},
     "output_type": "execute_result"
    }
   ],
   "source": [
    "-((2/5)*1 + (3/5)*1.02)"
   ]
  },
  {
   "cell_type": "code",
   "execution_count": 1,
   "id": "c954cec4",
   "metadata": {},
   "outputs": [
    {
     "name": "stdout",
     "output_type": "stream",
     "text": [
      "14\n"
     ]
    },
    {
     "data": {
      "text/html": [
       "<div>\n",
       "<style scoped>\n",
       "    .dataframe tbody tr th:only-of-type {\n",
       "        vertical-align: middle;\n",
       "    }\n",
       "\n",
       "    .dataframe tbody tr th {\n",
       "        vertical-align: top;\n",
       "    }\n",
       "\n",
       "    .dataframe thead th {\n",
       "        text-align: right;\n",
       "    }\n",
       "</style>\n",
       "<table border=\"1\" class=\"dataframe\">\n",
       "  <thead>\n",
       "    <tr style=\"text-align: right;\">\n",
       "      <th></th>\n",
       "      <th>Outlook</th>\n",
       "      <th>Temperature</th>\n",
       "      <th>Humidity</th>\n",
       "      <th>Wind</th>\n",
       "      <th>PlayTennis</th>\n",
       "    </tr>\n",
       "  </thead>\n",
       "  <tbody>\n",
       "    <tr>\n",
       "      <th>0</th>\n",
       "      <td>Sunny</td>\n",
       "      <td>Hot</td>\n",
       "      <td>High</td>\n",
       "      <td>Weak</td>\n",
       "      <td>No</td>\n",
       "    </tr>\n",
       "    <tr>\n",
       "      <th>1</th>\n",
       "      <td>Sunny</td>\n",
       "      <td>Hot</td>\n",
       "      <td>High</td>\n",
       "      <td>Strong</td>\n",
       "      <td>No</td>\n",
       "    </tr>\n",
       "    <tr>\n",
       "      <th>2</th>\n",
       "      <td>Overcast</td>\n",
       "      <td>Hot</td>\n",
       "      <td>High</td>\n",
       "      <td>Weak</td>\n",
       "      <td>Yes</td>\n",
       "    </tr>\n",
       "    <tr>\n",
       "      <th>3</th>\n",
       "      <td>Rain</td>\n",
       "      <td>Mild</td>\n",
       "      <td>High</td>\n",
       "      <td>Weak</td>\n",
       "      <td>Yes</td>\n",
       "    </tr>\n",
       "    <tr>\n",
       "      <th>4</th>\n",
       "      <td>Rain</td>\n",
       "      <td>Cool</td>\n",
       "      <td>Normal</td>\n",
       "      <td>Weak</td>\n",
       "      <td>Yes</td>\n",
       "    </tr>\n",
       "    <tr>\n",
       "      <th>5</th>\n",
       "      <td>Rain</td>\n",
       "      <td>Cool</td>\n",
       "      <td>Normal</td>\n",
       "      <td>Strong</td>\n",
       "      <td>No</td>\n",
       "    </tr>\n",
       "    <tr>\n",
       "      <th>6</th>\n",
       "      <td>Overcast</td>\n",
       "      <td>Cool</td>\n",
       "      <td>Normal</td>\n",
       "      <td>Strong</td>\n",
       "      <td>Yes</td>\n",
       "    </tr>\n",
       "    <tr>\n",
       "      <th>7</th>\n",
       "      <td>Sunny</td>\n",
       "      <td>Mild</td>\n",
       "      <td>High</td>\n",
       "      <td>Weak</td>\n",
       "      <td>No</td>\n",
       "    </tr>\n",
       "    <tr>\n",
       "      <th>8</th>\n",
       "      <td>Sunny</td>\n",
       "      <td>Cool</td>\n",
       "      <td>Normal</td>\n",
       "      <td>Weak</td>\n",
       "      <td>Yes</td>\n",
       "    </tr>\n",
       "    <tr>\n",
       "      <th>9</th>\n",
       "      <td>Rain</td>\n",
       "      <td>Mild</td>\n",
       "      <td>Normal</td>\n",
       "      <td>Weak</td>\n",
       "      <td>Yes</td>\n",
       "    </tr>\n",
       "    <tr>\n",
       "      <th>10</th>\n",
       "      <td>Sunny</td>\n",
       "      <td>Mild</td>\n",
       "      <td>Normal</td>\n",
       "      <td>Strong</td>\n",
       "      <td>Yes</td>\n",
       "    </tr>\n",
       "    <tr>\n",
       "      <th>11</th>\n",
       "      <td>Overcast</td>\n",
       "      <td>Mild</td>\n",
       "      <td>High</td>\n",
       "      <td>Strong</td>\n",
       "      <td>Yes</td>\n",
       "    </tr>\n",
       "    <tr>\n",
       "      <th>12</th>\n",
       "      <td>Overcast</td>\n",
       "      <td>Hot</td>\n",
       "      <td>Normal</td>\n",
       "      <td>Weak</td>\n",
       "      <td>Yes</td>\n",
       "    </tr>\n",
       "    <tr>\n",
       "      <th>13</th>\n",
       "      <td>Rain</td>\n",
       "      <td>Mild</td>\n",
       "      <td>High</td>\n",
       "      <td>Strong</td>\n",
       "      <td>No</td>\n",
       "    </tr>\n",
       "  </tbody>\n",
       "</table>\n",
       "</div>"
      ],
      "text/plain": [
       "     Outlook Temperature Humidity    Wind PlayTennis\n",
       "0      Sunny         Hot     High    Weak         No\n",
       "1      Sunny         Hot     High  Strong         No\n",
       "2   Overcast         Hot     High    Weak        Yes\n",
       "3       Rain        Mild     High    Weak        Yes\n",
       "4       Rain        Cool   Normal    Weak        Yes\n",
       "5       Rain        Cool   Normal  Strong         No\n",
       "6   Overcast        Cool   Normal  Strong        Yes\n",
       "7      Sunny        Mild     High    Weak         No\n",
       "8      Sunny        Cool   Normal    Weak        Yes\n",
       "9       Rain        Mild   Normal    Weak        Yes\n",
       "10     Sunny        Mild   Normal  Strong        Yes\n",
       "11  Overcast        Mild     High  Strong        Yes\n",
       "12  Overcast         Hot   Normal    Weak        Yes\n",
       "13      Rain        Mild     High  Strong         No"
      ]
     },
     "execution_count": 1,
     "metadata": {},
     "output_type": "execute_result"
    }
   ],
   "source": [
    "from collections import Counter\n",
    "import math\n",
    "import pandas as pd\n",
    "df = pd.read_csv(\"playTennis.csv\")\n",
    "print(len(df))\n",
    "df"
   ]
  },
  {
   "cell_type": "code",
   "execution_count": 3,
   "id": "e9d30a05",
   "metadata": {},
   "outputs": [],
   "source": [
    "def entropy(ls):\n",
    "    counts = Counter(x for x in ls)\n",
    "    total = len(ls)\n",
    "    probs = [x/total for x in counts.values()]\n",
    "    E = sum(-p * math.log(p,2) for p in probs)\n",
    "    \n",
    "    return E"
   ]
  },
  {
   "cell_type": "code",
   "execution_count": 6,
   "id": "3816dbec",
   "metadata": {},
   "outputs": [
    {
     "data": {
      "text/plain": [
       "0.9402859586706309"
      ]
     },
     "execution_count": 6,
     "metadata": {},
     "output_type": "execute_result"
    }
   ],
   "source": [
    "#check\n",
    "entropy(df['PlayTennis'])"
   ]
  },
  {
   "cell_type": "code",
   "execution_count": 7,
   "id": "15d5adef",
   "metadata": {},
   "outputs": [
    {
     "name": "stdout",
     "output_type": "stream",
     "text": [
      "Overcast\n",
      "     Outlook Temperature Humidity    Wind PlayTennis\n",
      "2   Overcast         Hot     High    Weak        Yes\n",
      "6   Overcast        Cool   Normal  Strong        Yes\n",
      "11  Overcast        Mild     High  Strong        Yes\n",
      "12  Overcast         Hot   Normal    Weak        Yes\n",
      "Rain\n",
      "   Outlook Temperature Humidity    Wind PlayTennis\n",
      "3     Rain        Mild     High    Weak        Yes\n",
      "4     Rain        Cool   Normal    Weak        Yes\n",
      "5     Rain        Cool   Normal  Strong         No\n",
      "9     Rain        Mild   Normal    Weak        Yes\n",
      "13    Rain        Mild     High  Strong         No\n",
      "Sunny\n",
      "   Outlook Temperature Humidity    Wind PlayTennis\n",
      "0    Sunny         Hot     High    Weak         No\n",
      "1    Sunny         Hot     High  Strong         No\n",
      "7    Sunny        Mild     High    Weak         No\n",
      "8    Sunny        Cool   Normal    Weak        Yes\n",
      "10   Sunny        Mild   Normal  Strong        Yes\n"
     ]
    }
   ],
   "source": [
    "#check\n",
    "dfs = df.groupby('Outlook')\n",
    "for k,v in dfs:\n",
    "    print(k)\n",
    "    print(v)"
   ]
  },
  {
   "cell_type": "code",
   "execution_count": 9,
   "id": "b5053202",
   "metadata": {},
   "outputs": [
    {
     "data": {
      "text/plain": [
       "Outlook\n",
       "Overcast     YesYesYesYes\n",
       "Rain        YesYesNoYesNo\n",
       "Sunny        NoNoNoYesYes\n",
       "Name: PlayTennis, dtype: object"
      ]
     },
     "execution_count": 9,
     "metadata": {},
     "output_type": "execute_result"
    }
   ],
   "source": [
    "#check\n",
    "dfs.agg('sum')['PlayTennis']"
   ]
  },
  {
   "cell_type": "code",
   "execution_count": 19,
   "id": "99a4019a",
   "metadata": {},
   "outputs": [],
   "source": [
    "def inf_gain(data, a, target):\n",
    "    df_split = data.groupby(a)\n",
    "    n = len(data)\n",
    "    df_agg = df_split.agg({target:[entropy, lambda x : len(x)/n]})[target]\n",
    "    df_agg.columns = ['Entropy', 'Proportion']\n",
    "#     print(df_agg)\n",
    "    new_E = sum(df_agg['Entropy'] * df_agg['Proportion'])\n",
    "    old_E = entropy(df[target])\n",
    "    \n",
    "    return old_E - new_E\n",
    "    "
   ]
  },
  {
   "cell_type": "code",
   "execution_count": 20,
   "id": "5b3aed38",
   "metadata": {},
   "outputs": [
    {
     "name": "stdout",
     "output_type": "stream",
     "text": [
      "0.2467498197744391\n"
     ]
    }
   ],
   "source": [
    "#check\n",
    "print(inf_gain(df, 'Outlook', 'PlayTennis'))\n",
    "# inf_gain(df, 'Temperature', 'PlayTennis')"
   ]
  },
  {
   "cell_type": "code",
   "execution_count": 27,
   "id": "5d47dc0c",
   "metadata": {},
   "outputs": [],
   "source": [
    "def id3(df, target, attr, def_class = None, def_attr = 'S'):\n",
    "    pn = Counter(x for x in df[target])\n",
    "    print(f'\\n ** {pn} **')\n",
    "    \n",
    "    if(len(pn)==1):\n",
    "        return next(iter(pn))\n",
    "    elif df.empty or (not attr):\n",
    "        return def_class\n",
    "    else:\n",
    "        def_class = max(pn, key=pn.get)\n",
    "        print(f'Default class {def_class}')\n",
    "        \n",
    "        gains = {}\n",
    "        for a in attr:\n",
    "            gains[a] = inf_gain(df, a , target)\n",
    "            print(f'Inf gain on {a}: {gains[a]}')\n",
    "            \n",
    "        best = max(gains, key=gains.get)\n",
    "        print(f'Max gain: {best}')\n",
    "        \n",
    "        tree = {best: {}} #initialise tree with best as root\n",
    "        attr.remove(best)\n",
    "        \n",
    "        for av, data in df.groupby(best):\n",
    "            subtree = id3(data, target, attr, def_class, best)\n",
    "            tree[best][av] = subtree\n",
    "            print(f'best {best} {av}')\n",
    "            print(tree)\n",
    "            \n",
    "    return tree"
   ]
  },
  {
   "cell_type": "code",
   "execution_count": 28,
   "id": "e843d80e",
   "metadata": {},
   "outputs": [
    {
     "name": "stdout",
     "output_type": "stream",
     "text": [
      "Predicting attributes ['Outlook', 'Temperature', 'Humidity', 'Wind']\n",
      "\n",
      " ** Counter({'Yes': 9, 'No': 5}) **\n",
      "Default class Yes\n",
      "Inf gain on Outlook: 0.2467498197744391\n",
      "Inf gain on Temperature: 0.029222565658954647\n",
      "Inf gain on Humidity: 0.15183550136234136\n",
      "Inf gain on Wind: 0.04812703040826927\n",
      "Max gain: Outlook\n",
      "\n",
      " ** Counter({'Yes': 4}) **\n",
      "best Outlook Overcast\n",
      "{'Outlook': {'Overcast': 'Yes'}}\n",
      "\n",
      " ** Counter({'Yes': 3, 'No': 2}) **\n",
      "Default class Yes\n",
      "Inf gain on Temperature: -0.010691541762062773\n",
      "Inf gain on Humidity: -0.010691541762062773\n",
      "Inf gain on Wind: 0.9402859586706309\n",
      "Max gain: Wind\n",
      "\n",
      " ** Counter({'No': 2}) **\n",
      "best Wind Strong\n",
      "{'Wind': {'Strong': 'No'}}\n",
      "\n",
      " ** Counter({'Yes': 3}) **\n",
      "best Wind Weak\n",
      "{'Wind': {'Strong': 'No', 'Weak': 'Yes'}}\n",
      "best Outlook Rain\n",
      "{'Outlook': {'Overcast': 'Yes', 'Rain': {'Wind': {'Strong': 'No', 'Weak': 'Yes'}}}}\n",
      "\n",
      " ** Counter({'No': 3, 'Yes': 2}) **\n",
      "Default class No\n",
      "Inf gain on Temperature: 0.5402859586706309\n",
      "Inf gain on Humidity: 0.9402859586706309\n",
      "Max gain: Humidity\n",
      "\n",
      " ** Counter({'No': 3}) **\n",
      "best Humidity High\n",
      "{'Humidity': {'High': 'No'}}\n",
      "\n",
      " ** Counter({'Yes': 2}) **\n",
      "best Humidity Normal\n",
      "{'Humidity': {'High': 'No', 'Normal': 'Yes'}}\n",
      "best Outlook Sunny\n",
      "{'Outlook': {'Overcast': 'Yes', 'Rain': {'Wind': {'Strong': 'No', 'Weak': 'Yes'}}, 'Sunny': {'Humidity': {'High': 'No', 'Normal': 'Yes'}}}}\n"
     ]
    }
   ],
   "source": [
    "attr = list(df.columns)\n",
    "attr.remove('PlayTennis')\n",
    "print(\"Predicting attributes\", attr)\n",
    "\n",
    "tree = id3(df, 'PlayTennis', attr)"
   ]
  },
  {
   "cell_type": "code",
   "execution_count": 29,
   "id": "7c751077",
   "metadata": {},
   "outputs": [
    {
     "name": "stdout",
     "output_type": "stream",
     "text": [
      "Counter({'Yes': 9, 'No': 5})\n"
     ]
    },
    {
     "data": {
      "text/plain": [
       "'No'"
      ]
     },
     "execution_count": 29,
     "metadata": {},
     "output_type": "execute_result"
    }
   ],
   "source": [
    "#check\n",
    "c = Counter(x for x in df['PlayTennis'])\n",
    "print(c)\n",
    "next(iter(c))"
   ]
  },
  {
   "cell_type": "code",
   "execution_count": 32,
   "id": "ec009b98",
   "metadata": {},
   "outputs": [
    {
     "name": "stdout",
     "output_type": "stream",
     "text": [
      "Tree: \n",
      "\n",
      "{'Outlook': {'Overcast': 'Yes',\n",
      "             'Rain': {'Wind': {'Strong': 'No', 'Weak': 'Yes'}},\n",
      "             'Sunny': {'Humidity': {'High': 'No', 'Normal': 'Yes'}}}}\n",
      "Best Attribute Outlook\n",
      "Tree Keys: \n",
      " dict_keys(['Overcast', 'Rain', 'Sunny'])\n"
     ]
    }
   ],
   "source": [
    "from pprint import pprint\n",
    "print(\"Tree: \\n\")\n",
    "pprint(tree)\n",
    "ba = next(iter(tree))\n",
    "print(\"Best Attribute\", ba)\n",
    "print(\"Tree Keys: \\n\", tree[ba].keys())"
   ]
  },
  {
   "cell_type": "code",
   "execution_count": null,
   "id": "f556f747",
   "metadata": {},
   "outputs": [],
   "source": []
  }
 ],
 "metadata": {
  "kernelspec": {
   "display_name": "Python 3 (ipykernel)",
   "language": "python",
   "name": "python3"
  },
  "language_info": {
   "codemirror_mode": {
    "name": "ipython",
    "version": 3
   },
   "file_extension": ".py",
   "mimetype": "text/x-python",
   "name": "python",
   "nbconvert_exporter": "python",
   "pygments_lexer": "ipython3",
   "version": "3.9.13"
  }
 },
 "nbformat": 4,
 "nbformat_minor": 5
}

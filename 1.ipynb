{
 "cells": [
  {
   "cell_type": "code",
   "execution_count": 10,
   "id": "8f3e1513",
   "metadata": {},
   "outputs": [],
   "source": [
    "class Node:\n",
    "    def __init__(self, value, coord):\n",
    "        self.value = value\n",
    "        self.coord = coord\n",
    "        self.g = 0\n",
    "        self.h = 0\n",
    "        self.parent = None\n",
    "        \n",
    "    def __str__(self):\n",
    "        s= f'{self.coord} f = {self.g+self.h:0.2f} g = {self.g:0.2f}, h = {self.h:0.2f}'\n",
    "        return s\n",
    "    \n",
    "    def move_cost(self, other):\n",
    "        return 1"
   ]
  },
  {
   "cell_type": "code",
   "execution_count": 11,
   "id": "50717a07",
   "metadata": {},
   "outputs": [
    {
     "name": "stdout",
     "output_type": "stream",
     "text": [
      "(4, 0) f = 0.00 g = 0.00, h = 0.00\n",
      "(0, 3) f = 0.00 g = 0.00, h = 0.00\n"
     ]
    }
   ],
   "source": [
    "#use case 1\n",
    "\n",
    "grid = [[1,1,1,1],\n",
    "       [1,1,1,1],\n",
    "       [1,1,1,1],\n",
    "       [1,1,0,0],\n",
    "       [1,1,0,1]]\n",
    "\n",
    "for x in range(len(grid)):\n",
    "    for y in range(len(grid[x])):\n",
    "        grid[x][y] = Node(grid[x][y], (x,y))\n",
    "        \n",
    "start = grid[4][0]\n",
    "goal = grid[0][3]\n",
    "\n",
    "print(start)\n",
    "print(goal)"
   ]
  },
  {
   "cell_type": "code",
   "execution_count": 28,
   "id": "0a5d0ebd",
   "metadata": {},
   "outputs": [],
   "source": [
    "def children(current_node, grid):\n",
    "    x,y = current_node.coord\n",
    "#     links = [(x-1, y), (x, y-1), (x,y+1), (x+1, y)]\n",
    "    links = [(x-1, y), (x, y-1), (x,y+1), (x+1, y), (x+1, y+1), (x-1, y-1), (x+1, y-1), (x-1, y+1)]\n",
    "\n",
    "    \n",
    "    valid_links = [link for row in grid for link in row if link.value!=0]\n",
    "    valid_children = [link for link in valid_links if link.coord in links]\n",
    "    \n",
    "    return valid_children"
   ]
  },
  {
   "cell_type": "code",
   "execution_count": 29,
   "id": "acc02f70",
   "metadata": {},
   "outputs": [],
   "source": [
    "#For tracing\n",
    "\n",
    "# ch = children(start, grid)\n",
    "# # print(\"Children of\", current_node)\n",
    "# for c in ch: \n",
    "#     print(c)"
   ]
  },
  {
   "cell_type": "code",
   "execution_count": 30,
   "id": "435b4fc4",
   "metadata": {},
   "outputs": [],
   "source": [
    "#Manhattan distance\n",
    "\n",
    "def manhattan(node, goal):\n",
    "    xN, yN = node.coord\n",
    "    xG, yG = goal.coord\n",
    "    h = abs(xN - xG) + abs(yN - yG)\n",
    "    return h\n",
    "\n",
    "def diagonal(node, goal):\n",
    "    xN, yN = node.coord\n",
    "    xG, yG = goal.coord\n",
    "    dx = abs(xN - xG)\n",
    "    dy = abs(yN - yG)\n",
    "    \n",
    "    return (dx+dy) min(dx, dy)"
   ]
  },
  {
   "cell_type": "code",
   "execution_count": 31,
   "id": "235ec526",
   "metadata": {},
   "outputs": [
    {
     "name": "stdout",
     "output_type": "stream",
     "text": [
      "7\n"
     ]
    }
   ],
   "source": [
    "print(manhattan(start, goal))"
   ]
  },
  {
   "cell_type": "code",
   "execution_count": 32,
   "id": "6a805fe7",
   "metadata": {},
   "outputs": [],
   "source": [
    "def aStar(start, goal, grid):\n",
    "    OPEN = list()\n",
    "    CLOSED = list()\n",
    "    \n",
    "    current = start\n",
    "    \n",
    "    OPEN.append(current)\n",
    "    i = 0\n",
    "    \n",
    "    while OPEN:\n",
    "        print(\"Iteration\", i)\n",
    "        i+=1\n",
    "        \n",
    "        current = min(OPEN, key=lambda o:o.g + o.h)\n",
    "        \n",
    "        print(\"Current node\", current)\n",
    "        \n",
    "        if current == goal:\n",
    "            path = []\n",
    "            while current.parent:\n",
    "                path.append(current)\n",
    "                current = current.parent\n",
    "                \n",
    "            path.append(current)\n",
    "            return path[::-1]\n",
    "        OPEN.remove(current)\n",
    "        CLOSED.append(current)\n",
    "        \n",
    "        for node in children(current, grid):\n",
    "            \n",
    "            if node in CLOSED:\n",
    "                new_cost = current.g + current.move_cost(node)\n",
    "                \n",
    "                if new_cost <= node.g:\n",
    "                    OPEN.append(node)\n",
    "                    CLOSED.remove(node)\n",
    "                    \n",
    "            elif node in OPEN:\n",
    "                new_cost = current.g + current.move_cost(node)\n",
    "                if new_cost <= node.g:\n",
    "                    node.g = new_cost\n",
    "                    node.parent = current\n",
    "                    \n",
    "            else:\n",
    "                node.g = current.g + current.move_cost(node)\n",
    "#                 node.h = manhattan(node, goal)\n",
    "                node.h = diagonal(node, goal)\n",
    "                \n",
    "                node.parent = current\n",
    "                \n",
    "                OPEN.append(node)\n",
    "                \n",
    "    return None"
   ]
  },
  {
   "cell_type": "code",
   "execution_count": 35,
   "id": "5abcb096",
   "metadata": {},
   "outputs": [
    {
     "name": "stdout",
     "output_type": "stream",
     "text": [
      "Iteration 0\n",
      "Current node (4, 0) f = 0.00 g = 0.00, h = 0.00\n",
      "Iteration 1\n",
      "Current node (3, 0) f = 7.00 g = 1.00, h = 6.00\n",
      "Iteration 2\n",
      "Current node (4, 1) f = 7.00 g = 1.00, h = 6.00\n",
      "Iteration 3\n",
      "Current node (2, 0) f = 7.00 g = 2.00, h = 5.00\n",
      "Iteration 4\n",
      "Current node (3, 1) f = 7.00 g = 2.00, h = 5.00\n",
      "Iteration 5\n",
      "Current node (1, 0) f = 7.00 g = 3.00, h = 4.00\n",
      "Iteration 6\n",
      "Current node (2, 1) f = 7.00 g = 3.00, h = 4.00\n",
      "Iteration 7\n",
      "Current node (0, 0) f = 7.00 g = 4.00, h = 3.00\n",
      "Iteration 8\n",
      "Current node (1, 1) f = 7.00 g = 4.00, h = 3.00\n",
      "Iteration 9\n",
      "Current node (2, 2) f = 7.00 g = 4.00, h = 3.00\n",
      "Iteration 10\n",
      "Current node (0, 1) f = 7.00 g = 5.00, h = 2.00\n",
      "Iteration 11\n",
      "Current node (1, 2) f = 7.00 g = 5.00, h = 2.00\n",
      "Iteration 12\n",
      "Current node (2, 3) f = 7.00 g = 5.00, h = 2.00\n",
      "Iteration 13\n",
      "Current node (0, 2) f = 7.00 g = 6.00, h = 1.00\n",
      "Iteration 14\n",
      "Current node (1, 3) f = 7.00 g = 6.00, h = 1.00\n",
      "Iteration 15\n",
      "Current node (0, 3) f = 7.00 g = 7.00, h = 0.00\n",
      "(4, 0) (4, 1) (3, 1) (2, 1) (2, 2) (2, 3) (1, 3) (0, 3) "
     ]
    }
   ],
   "source": [
    "path = aStar(start, goal, grid)\n",
    "\n",
    "for p in path:\n",
    "    print(p.coord, end=' ')"
   ]
  },
  {
   "cell_type": "code",
   "execution_count": 34,
   "id": "411b9cfd",
   "metadata": {},
   "outputs": [
    {
     "name": "stdout",
     "output_type": "stream",
     "text": [
      "Iteration 0\n",
      "Current node (4, 0) f = 0.00 g = 0.00, h = 0.00\n",
      "Iteration 1\n",
      "Current node (3, 0) f = 7.00 g = 1.00, h = 6.00\n",
      "Iteration 2\n",
      "Current node (4, 1) f = 7.00 g = 1.00, h = 6.00\n",
      "Iteration 3\n",
      "Current node (2, 0) f = 7.00 g = 2.00, h = 5.00\n",
      "Iteration 4\n",
      "Current node (3, 1) f = 7.00 g = 2.00, h = 5.00\n",
      "Iteration 5\n",
      "Current node (1, 0) f = 7.00 g = 3.00, h = 4.00\n",
      "Iteration 6\n",
      "Current node (2, 1) f = 7.00 g = 3.00, h = 4.00\n",
      "Iteration 7\n",
      "Current node (0, 0) f = 7.00 g = 4.00, h = 3.00\n",
      "Iteration 8\n",
      "Current node (1, 1) f = 7.00 g = 4.00, h = 3.00\n",
      "Iteration 9\n",
      "Current node (2, 2) f = 7.00 g = 4.00, h = 3.00\n",
      "Iteration 10\n",
      "Current node (0, 1) f = 7.00 g = 5.00, h = 2.00\n",
      "Iteration 11\n",
      "Current node (1, 2) f = 7.00 g = 5.00, h = 2.00\n",
      "Iteration 12\n",
      "Current node (2, 3) f = 7.00 g = 5.00, h = 2.00\n",
      "Iteration 13\n",
      "Current node (0, 2) f = 7.00 g = 6.00, h = 1.00\n",
      "Iteration 14\n",
      "Current node (1, 3) f = 7.00 g = 6.00, h = 1.00\n",
      "Iteration 15\n",
      "Current node (0, 3) f = 7.00 g = 7.00, h = 0.00\n",
      "(4, 0) (4, 1) (3, 1) (2, 1) (2, 2) (2, 3) (1, 3) (0, 3) "
     ]
    }
   ],
   "source": [
    "#Chebyshev\n",
    "path = aStar(start, goal, grid)\n",
    "\n",
    "for p in path:\n",
    "    print(p.coord, end=' ')"
   ]
  },
  {
   "cell_type": "code",
   "execution_count": null,
   "id": "d4f481b1",
   "metadata": {},
   "outputs": [],
   "source": []
  }
 ],
 "metadata": {
  "kernelspec": {
   "display_name": "Python 3 (ipykernel)",
   "language": "python",
   "name": "python3"
  },
  "language_info": {
   "codemirror_mode": {
    "name": "ipython",
    "version": 3
   },
   "file_extension": ".py",
   "mimetype": "text/x-python",
   "name": "python",
   "nbconvert_exporter": "python",
   "pygments_lexer": "ipython3",
   "version": "3.9.13"
  }
 },
 "nbformat": 4,
 "nbformat_minor": 5
}

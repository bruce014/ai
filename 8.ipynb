{
 "cells": [
  {
   "cell_type": "code",
   "execution_count": 116,
   "id": "8463ba0f",
   "metadata": {},
   "outputs": [],
   "source": [
    "import numpy as np\n",
    "import pandas as pd\n",
    "from sklearn.datasets import load_iris\n",
    "iris = load_iris()\n",
    "X = iris.data\n",
    "y = iris.target"
   ]
  },
  {
   "cell_type": "code",
   "execution_count": 117,
   "id": "1236dd6f",
   "metadata": {},
   "outputs": [
    {
     "name": "stdout",
     "output_type": "stream",
     "text": [
      ".. _iris_dataset:\n",
      "\n",
      "Iris plants dataset\n",
      "--------------------\n",
      "\n",
      "**Data Set Characteristics:**\n",
      "\n",
      "    :Number of Instances: 150 (50 in each of three classes)\n",
      "    :Number of Attributes: 4 numeric, predictive attributes and the class\n",
      "    :Attribute Information:\n",
      "        - sepal length in cm\n",
      "        - sepal width in cm\n",
      "        - petal length in cm\n",
      "        - petal width in cm\n",
      "        - class:\n",
      "                - Iris-Setosa\n",
      "                - Iris-Versicolour\n",
      "                - Iris-Virginica\n",
      "                \n",
      "    :Summary Statistics:\n",
      "\n",
      "    ============== ==== ==== ======= ===== ====================\n",
      "                    Min  Max   Mean    SD   Class Correlation\n",
      "    ============== ==== ==== ======= ===== ====================\n",
      "    sepal length:   4.3  7.9   5.84   0.83    0.7826\n",
      "    sepal width:    2.0  4.4   3.05   0.43   -0.4194\n",
      "    petal length:   1.0  6.9   3.76   1.76    0.9490  (high!)\n",
      "    petal width:    0.1  2.5   1.20   0.76    0.9565  (high!)\n",
      "    ============== ==== ==== ======= ===== ====================\n",
      "\n",
      "    :Missing Attribute Values: None\n",
      "    :Class Distribution: 33.3% for each of 3 classes.\n",
      "    :Creator: R.A. Fisher\n",
      "    :Donor: Michael Marshall (MARSHALL%PLU@io.arc.nasa.gov)\n",
      "    :Date: July, 1988\n",
      "\n",
      "The famous Iris database, first used by Sir R.A. Fisher. The dataset is taken\n",
      "from Fisher's paper. Note that it's the same as in R, but not as in the UCI\n",
      "Machine Learning Repository, which has two wrong data points.\n",
      "\n",
      "This is perhaps the best known database to be found in the\n",
      "pattern recognition literature.  Fisher's paper is a classic in the field and\n",
      "is referenced frequently to this day.  (See Duda & Hart, for example.)  The\n",
      "data set contains 3 classes of 50 instances each, where each class refers to a\n",
      "type of iris plant.  One class is linearly separable from the other 2; the\n",
      "latter are NOT linearly separable from each other.\n",
      "\n",
      ".. topic:: References\n",
      "\n",
      "   - Fisher, R.A. \"The use of multiple measurements in taxonomic problems\"\n",
      "     Annual Eugenics, 7, Part II, 179-188 (1936); also in \"Contributions to\n",
      "     Mathematical Statistics\" (John Wiley, NY, 1950).\n",
      "   - Duda, R.O., & Hart, P.E. (1973) Pattern Classification and Scene Analysis.\n",
      "     (Q327.D83) John Wiley & Sons.  ISBN 0-471-22361-1.  See page 218.\n",
      "   - Dasarathy, B.V. (1980) \"Nosing Around the Neighborhood: A New System\n",
      "     Structure and Classification Rule for Recognition in Partially Exposed\n",
      "     Environments\".  IEEE Transactions on Pattern Analysis and Machine\n",
      "     Intelligence, Vol. PAMI-2, No. 1, 67-71.\n",
      "   - Gates, G.W. (1972) \"The Reduced Nearest Neighbor Rule\".  IEEE Transactions\n",
      "     on Information Theory, May 1972, 431-433.\n",
      "   - See also: 1988 MLC Proceedings, 54-64.  Cheeseman et al\"s AUTOCLASS II\n",
      "     conceptual clustering system finds 3 classes in the data.\n",
      "   - Many, many more ...\n"
     ]
    }
   ],
   "source": [
    "print(iris.DESCR)"
   ]
  },
  {
   "cell_type": "code",
   "execution_count": 118,
   "id": "f03c37d8",
   "metadata": {},
   "outputs": [
    {
     "name": "stdout",
     "output_type": "stream",
     "text": [
      "(150, 4)\n",
      "Training Set 120\n",
      "Test Set 30\n"
     ]
    }
   ],
   "source": [
    "from sklearn.model_selection import train_test_split\n",
    "\n",
    "X_train, X_test, y_train, y_test = train_test_split(X, y, test_size=0.20, random_state=23)\n",
    "print(iris.data.shape)\n",
    "print('Training Set', len(X_train))\n",
    "print(\"Test Set\", len(X_test))"
   ]
  },
  {
   "cell_type": "code",
   "execution_count": 119,
   "id": "e328a487",
   "metadata": {},
   "outputs": [
    {
     "data": {
      "text/plain": [
       "KNeighborsClassifier(n_neighbors=3)"
      ]
     },
     "execution_count": 119,
     "metadata": {},
     "output_type": "execute_result"
    }
   ],
   "source": [
    "from sklearn.neighbors import KNeighborsClassifier\n",
    "knn = KNeighborsClassifier(n_neighbors=3)\n",
    "knn.fit(X_train, y_train)"
   ]
  },
  {
   "cell_type": "code",
   "execution_count": 120,
   "id": "b7439afd",
   "metadata": {
    "scrolled": true
   },
   "outputs": [
    {
     "name": "stdout",
     "output_type": "stream",
     "text": [
      "[2 2 1 0 2 1 0 2 0 1 1 0 2 0 0 1 1 1 2 0 2 0 0 0 2 0 0 2 1 1]\n"
     ]
    },
    {
     "name": "stderr",
     "output_type": "stream",
     "text": [
      "/home/exam1/anaconda3/lib/python3.9/site-packages/sklearn/neighbors/_classification.py:228: FutureWarning: Unlike other reduction functions (e.g. `skew`, `kurtosis`), the default behavior of `mode` typically preserves the axis it acts along. In SciPy 1.11.0, this behavior will change: the default value of `keepdims` will become False, the `axis` over which the statistic is taken will be eliminated, and the value None will no longer be accepted. Set `keepdims` to True or False to avoid this warning.\n",
      "  mode, _ = stats.mode(_y[neigh_ind, k], axis=1)\n"
     ]
    }
   ],
   "source": [
    "y_pred = knn.predict(X_test)\n",
    "print(y_pred)"
   ]
  },
  {
   "cell_type": "code",
   "execution_count": 121,
   "id": "e155cc4b",
   "metadata": {},
   "outputs": [
    {
     "name": "stdout",
     "output_type": "stream",
     "text": [
      "Accuracy = 0.9666666666666667\n",
      "[[12  0  0]\n",
      " [ 0  8  0]\n",
      " [ 0  1  9]]\n",
      "              precision    recall  f1-score   support\n",
      "\n",
      "           0       1.00      1.00      1.00        12\n",
      "           1       0.89      1.00      0.94         8\n",
      "           2       1.00      0.90      0.95        10\n",
      "\n",
      "    accuracy                           0.97        30\n",
      "   macro avg       0.96      0.97      0.96        30\n",
      "weighted avg       0.97      0.97      0.97        30\n",
      "\n"
     ]
    }
   ],
   "source": [
    "from sklearn import metrics\n",
    "print(\"Accuracy =\", metrics.accuracy_score(y_pred, y_test))\n",
    "from sklearn.metrics import classification_report, confusion_matrix\n",
    "print(confusion_matrix(y_test, y_pred))\n",
    "print (classification_report(y_test, y_pred))"
   ]
  },
  {
   "cell_type": "code",
   "execution_count": 122,
   "id": "37399cd9",
   "metadata": {},
   "outputs": [
    {
     "name": "stdout",
     "output_type": "stream",
     "text": [
      "pre_target = ['virginica', 'virginica', 'versicolor', 'setosa', 'virginica', 'versicolor', 'setosa', 'virginica', 'setosa', 'versicolor', 'versicolor', 'setosa', 'virginica', 'setosa', 'setosa', 'versicolor', 'versicolor', 'versicolor', 'virginica', 'setosa', 'virginica', 'setosa', 'setosa', 'setosa', 'virginica', 'setosa', 'setosa', 'virginica', 'versicolor', 'versicolor'] \n",
      "\n",
      "\n",
      "actual_target = ['virginica', 'virginica', 'versicolor', 'setosa', 'virginica', 'versicolor', 'setosa', 'virginica', 'setosa', 'versicolor', 'versicolor', 'setosa', 'virginica', 'setosa', 'setosa', 'virginica', 'versicolor', 'versicolor', 'virginica', 'setosa', 'virginica', 'setosa', 'setosa', 'setosa', 'virginica', 'setosa', 'setosa', 'virginica', 'versicolor', 'versicolor'] \n",
      "\n",
      "\n",
      "\t Predicted \t\tActual \t\t\tAnswer\n",
      "0 : virginica \t\t virginica \t\t\tYes\n",
      "1 : virginica \t\t virginica \t\t\tYes\n",
      "2 : versicolor \t\t versicolor \t\t\tYes\n",
      "3 : setosa \t\t setosa \t\t\tYes\n",
      "4 : virginica \t\t virginica \t\t\tYes\n",
      "5 : versicolor \t\t versicolor \t\t\tYes\n",
      "6 : setosa \t\t setosa \t\t\tYes\n",
      "7 : virginica \t\t virginica \t\t\tYes\n",
      "8 : setosa \t\t setosa \t\t\tYes\n",
      "9 : versicolor \t\t versicolor \t\t\tYes\n",
      "10 : versicolor \t\t versicolor \t\t\tYes\n",
      "11 : setosa \t\t setosa \t\t\tYes\n",
      "12 : virginica \t\t virginica \t\t\tYes\n",
      "13 : setosa \t\t setosa \t\t\tYes\n",
      "14 : setosa \t\t setosa \t\t\tYes\n",
      "15 : versicolor \t\t virginica \t\t\tNo\n",
      "16 : versicolor \t\t versicolor \t\t\tYes\n",
      "17 : versicolor \t\t versicolor \t\t\tYes\n",
      "18 : virginica \t\t virginica \t\t\tYes\n",
      "19 : setosa \t\t setosa \t\t\tYes\n",
      "20 : virginica \t\t virginica \t\t\tYes\n",
      "21 : setosa \t\t setosa \t\t\tYes\n",
      "22 : setosa \t\t setosa \t\t\tYes\n",
      "23 : setosa \t\t setosa \t\t\tYes\n",
      "24 : virginica \t\t virginica \t\t\tYes\n",
      "25 : setosa \t\t setosa \t\t\tYes\n",
      "26 : setosa \t\t setosa \t\t\tYes\n",
      "27 : virginica \t\t virginica \t\t\tYes\n",
      "28 : versicolor \t\t versicolor \t\t\tYes\n",
      "29 : versicolor \t\t versicolor \t\t\tYes\n"
     ]
    },
    {
     "name": "stderr",
     "output_type": "stream",
     "text": [
      "/home/exam1/anaconda3/lib/python3.9/site-packages/sklearn/neighbors/_classification.py:228: FutureWarning: Unlike other reduction functions (e.g. `skew`, `kurtosis`), the default behavior of `mode` typically preserves the axis it acts along. In SciPy 1.11.0, this behavior will change: the default value of `keepdims` will become False, the `axis` over which the statistic is taken will be eliminated, and the value None will no longer be accepted. Set `keepdims` to True or False to avoid this warning.\n",
      "  mode, _ = stats.mode(_y[neigh_ind, k], axis=1)\n"
     ]
    }
   ],
   "source": [
    "#Required for record, not for exam\n",
    "\n",
    "predicted = knn.predict(X_test)\n",
    "pre_target = [iris.target_names[i] for i in predicted]\n",
    "print(\"pre_target =\", pre_target, \"\\n\\n\")\n",
    "actual_target = [iris.target_names[i] for i in y_test]\n",
    "print(\"actual_target =\", actual_target, \"\\n\\n\")\n",
    "print(\"\\t Predicted\", \"\\t\\tActual\", \"\\t\\t\\tAnswer\")\n",
    "for i in range(0, len(pre_target)):\n",
    "    print(i, \":\", pre_target[i], \"\\t\\t\", actual_target[i], \"\\t\\t\", end='\\t')\n",
    "    if(pre_target[i] == actual_target[i]):\n",
    "        print(\"Yes\")\n",
    "    else:\n",
    "        print(\"No\")"
   ]
  },
  {
   "cell_type": "code",
   "execution_count": 123,
   "id": "50b61d09",
   "metadata": {},
   "outputs": [
    {
     "name": "stdout",
     "output_type": "stream",
     "text": [
      "[2]\n",
      "[2]\n",
      "Correct\n"
     ]
    },
    {
     "name": "stderr",
     "output_type": "stream",
     "text": [
      "/home/exam1/anaconda3/lib/python3.9/site-packages/sklearn/neighbors/_classification.py:228: FutureWarning: Unlike other reduction functions (e.g. `skew`, `kurtosis`), the default behavior of `mode` typically preserves the axis it acts along. In SciPy 1.11.0, this behavior will change: the default value of `keepdims` will become False, the `axis` over which the statistic is taken will be eliminated, and the value None will no longer be accepted. Set `keepdims` to True or False to avoid this warning.\n",
      "  mode, _ = stats.mode(_y[neigh_ind, k], axis=1)\n"
     ]
    }
   ],
   "source": [
    "sam = [X_test[18]]\n",
    "a = knn.predict(sam)\n",
    "print(a)\n",
    "\n",
    "sam1 = [y_test[18]]\n",
    "print(sam1)\n",
    "\n",
    "if(a==sam1):\n",
    "    print(\"Correct\")\n",
    "else:\n",
    "    print(\"Wrong\")"
   ]
  },
  {
   "cell_type": "code",
   "execution_count": 124,
   "id": "5efbf793",
   "metadata": {},
   "outputs": [],
   "source": [
    "import matplotlib.pyplot as plt\n",
    "from mlxtend.plotting import plot_decision_regions\n",
    "from sklearn.datasets import load_iris\n",
    "from sklearn.neighbors import KNeighborsClassifier\n",
    "iris = load_iris()\n",
    "\n",
    "X = pd.DataFrame(iris.data)\n",
    "X.columns = ['Sepal_Length', 'Sepal_Width', 'Petal_Length', 'Petal_Width']\n",
    "Y = pd.DataFrame(iris.target)\n",
    "Y.columns = ['Targets']"
   ]
  },
  {
   "cell_type": "code",
   "execution_count": 125,
   "id": "a3aa8d0d",
   "metadata": {},
   "outputs": [
    {
     "name": "stderr",
     "output_type": "stream",
     "text": [
      "/home/exam1/anaconda3/lib/python3.9/site-packages/sklearn/neighbors/_classification.py:228: FutureWarning: Unlike other reduction functions (e.g. `skew`, `kurtosis`), the default behavior of `mode` typically preserves the axis it acts along. In SciPy 1.11.0, this behavior will change: the default value of `keepdims` will become False, the `axis` over which the statistic is taken will be eliminated, and the value None will no longer be accepted. Set `keepdims` to True or False to avoid this warning.\n",
      "  mode, _ = stats.mode(_y[neigh_ind, k], axis=1)\n"
     ]
    },
    {
     "data": {
      "image/png": "[encoded data removed]",
      "text/plain": [
       "<Figure size 640x480 with 1 Axes>"
      ]
     },
     "metadata": {},
     "output_type": "display_data"
    }
   ],
   "source": [
    "k =5\n",
    "import matplotlib.pyplot as plt\n",
    "x = X[['Petal_Width', 'Petal_Length']].values\n",
    "y = Y['Targets'].astype(int).values\n",
    "clf = KNeighborsClassifier(n_neighbors=k)\n",
    "clf.fit(x,y)\n",
    "plot_decision_regions(x, y, clf=clf, legend=2)\n",
    "plt.xlabel('Petal Width')\n",
    "plt.ylabel('Petal Height')\n",
    "plt.title(f'Knn with K[{k}]')\n",
    "plt.show()"
   ]
  },
  {
   "cell_type": "code",
   "execution_count": null,
   "id": "39b60bed",
   "metadata": {},
   "outputs": [],
   "source": []
  }
 ],
 "metadata": {
  "kernelspec": {
   "display_name": "Python 3 (ipykernel)",
   "language": "python",
   "name": "python3"
  },
  "language_info": {
   "codemirror_mode": {
    "name": "ipython",
    "version": 3
   },
   "file_extension": ".py",
   "mimetype": "text/x-python",
   "name": "python",
   "nbconvert_exporter": "python",
   "pygments_lexer": "ipython3",
   "version": "3.9.13"
  }
 },
 "nbformat": 4,
 "nbformat_minor": 5
}

{
 "cells": [
  {
   "cell_type": "code",
   "execution_count": 30,
   "id": "9d548f50",
   "metadata": {},
   "outputs": [],
   "source": [
    "def g_0(n):\n",
    "    return (\"?\",)*n\n",
    "\n",
    "def s_0(n):\n",
    "    return (\"0\",)*n\n",
    "\n"
   ]
  },
  {
   "cell_type": "code",
   "execution_count": 31,
   "id": "9806f9e1",
   "metadata": {},
   "outputs": [
    {
     "data": {
      "text/plain": [
       "[(1, 3), (2, 4), (3, 5)]"
      ]
     },
     "execution_count": 31,
     "metadata": {},
     "output_type": "execute_result"
    }
   ],
   "source": [
    "def more_general(h1, h2):\n",
    "    more_general_parts = []\n",
    "    for x, y in zip(h1, h2):\n",
    "        mg = x == \"?\" or (x != \"0\" and (x == y or y == \"0\"))\n",
    "        more_general_parts.append(mg)\n",
    "        \n",
    "    return all(more_general_parts)\n",
    "\n",
    "l1 = [1,2,3]\n",
    "l2 = [3,4,5]\n",
    "\n",
    "list(zip(l1, l2))"
   ]
  },
  {
   "cell_type": "code",
   "execution_count": 32,
   "id": "7d6895c8",
   "metadata": {},
   "outputs": [],
   "source": [
    "def fulfills(example, hypothesis):\n",
    "    return more_general(hypothesis, example)\n",
    "\n",
    "def min_generalizations(h, x):\n",
    "    h_new = list(h)\n",
    "    for i in range(len(h)):\n",
    "        if not fulfills(x[i:i+1], h[i:i+1]):\n",
    "            h_new[i] = \"?\" if h[i] != \"0\" else x[i]\n",
    "            \n",
    "    return [tuple(h_new)]"
   ]
  },
  {
   "cell_type": "code",
   "execution_count": 33,
   "id": "df94e573",
   "metadata": {},
   "outputs": [
    {
     "data": {
      "text/plain": [
       "[('rainy', 'windy', '?')]"
      ]
     },
     "execution_count": 33,
     "metadata": {},
     "output_type": "execute_result"
    }
   ],
   "source": [
    "#For test\n",
    "min_generalizations(h=(\"0\", \"0\", \"sunny\"), x=(\"rainy\", \"windy\", \"cloudy\"))"
   ]
  },
  {
   "cell_type": "code",
   "execution_count": 34,
   "id": "e431cb54",
   "metadata": {},
   "outputs": [],
   "source": [
    "def min_specializations(h, domains, x):\n",
    "    results = []\n",
    "    for i in range(len(h)):\n",
    "        if h[i] == \"?\":\n",
    "            for val in domains[i]:\n",
    "                if x[i] != val:\n",
    "                    h_new = h[:i] + (val,) + h[i+1:]\n",
    "                    results.append(h_new)\n",
    "                    \n",
    "        elif h[i] != \"0\":\n",
    "            h_new = h[:i] + (\"0\",) + h[i+1:]\n",
    "            results.append(h_new)\n",
    "            \n",
    "    return results"
   ]
  },
  {
   "cell_type": "code",
   "execution_count": 35,
   "id": "e2508c48",
   "metadata": {},
   "outputs": [
    {
     "data": {
      "text/plain": [
       "[('a', 'x'), ('c', 'x'), ('?', '0')]"
      ]
     },
     "execution_count": 35,
     "metadata": {},
     "output_type": "execute_result"
    }
   ],
   "source": [
    "min_specializations(h=(\"?\", \"x\",), domains=[[\"a\", \"b\", \"c\"], [\"x\", \"y\"]], x=(\"b\", \"x\"))"
   ]
  },
  {
   "cell_type": "code",
   "execution_count": 41,
   "id": "d8601df6",
   "metadata": {},
   "outputs": [
    {
     "data": {
      "text/plain": [
       "[('Sunny', 'Warm', 'Normal', 'Strong', 'Warn', 'Same ', 'Y'),\n",
       " ('Sunny', 'Warm', 'High', 'Strong', 'Warn', 'Same ', 'Y'),\n",
       " ('Rainy ', 'Cold', 'High', 'Strong', 'Warn', 'Change', 'N'),\n",
       " ('Sunny', 'Warm', 'High', 'Strong', 'Cold', 'Change', 'Y')]"
      ]
     },
     "execution_count": 41,
     "metadata": {},
     "output_type": "execute_result"
    }
   ],
   "source": [
    "import csv\n",
    "\n",
    "with open(\"enjoySport.csv\") as csvFile:\n",
    "    examples = [tuple(line) for line in csv.reader(csvFile)]\n",
    "    \n",
    "examples = examples[1:]\n",
    "examples"
   ]
  },
  {
   "cell_type": "code",
   "execution_count": 42,
   "id": "4e70fbb5",
   "metadata": {},
   "outputs": [
    {
     "data": {
      "text/plain": [
       "[['Rainy ', 'Sunny'],\n",
       " ['Cold', 'Warm'],\n",
       " ['High', 'Normal'],\n",
       " ['Strong'],\n",
       " ['Cold', 'Warn'],\n",
       " ['Change', 'Same '],\n",
       " ['N', 'Y']]"
      ]
     },
     "execution_count": 42,
     "metadata": {},
     "output_type": "execute_result"
    }
   ],
   "source": [
    "def get_domains(examples):\n",
    "    d = [set() for i in examples[0]]\n",
    "    \n",
    "    for x in examples:\n",
    "        for i, xi in enumerate(x):\n",
    "            d[i].add(xi)\n",
    "    return [list(sorted(x)) for x in d]\n",
    "\n",
    "get_domains(examples)"
   ]
  },
  {
   "cell_type": "code",
   "execution_count": 43,
   "id": "f1c9ec32",
   "metadata": {},
   "outputs": [],
   "source": [
    "def generalize_S(x, G, S):\n",
    "    S_prev = list(S)\n",
    "    for s in S_prev:\n",
    "        if s not in S:\n",
    "            continue\n",
    "            \n",
    "        if not fulfills(x, s):\n",
    "            S.remove(s)\n",
    "            Splus = min_generalizations(s, x)\n",
    "            S.update([h for h in Splus if any([more_general(g, h) for g in G])])\n",
    "            S.difference_update([h for h in S if any([more_general(h, h1) for h1 in S if h != h1])])\n",
    "            \n",
    "    return S"
   ]
  },
  {
   "cell_type": "code",
   "execution_count": 44,
   "id": "9e1c5009",
   "metadata": {},
   "outputs": [],
   "source": [
    "def specialize_G(x, domains, G, S):\n",
    "    G_prev = list(G)\n",
    "    for g in G_prev:\n",
    "        if g not in G:\n",
    "            continue\n",
    "            \n",
    "        if fulfills(x, g):\n",
    "            G.remove(g)\n",
    "            Gminus = min_specializations(g, domains, x)\n",
    "            G.update([h for h in Gminus if any([more_general(h, s) for s in S])])\n",
    "            G.difference_update([h for h in G if any([more_general(g1, h) for g1 in G if h != g1])])\n",
    "            \n",
    "    return G"
   ]
  },
  {
   "cell_type": "code",
   "execution_count": 45,
   "id": "68711a5c",
   "metadata": {},
   "outputs": [
    {
     "name": "stdout",
     "output_type": "stream",
     "text": [
      "\n",
      " S[0]: {('0', '0', '0', '0', '0', '0')}\n",
      "G[0]: {('?', '?', '?', '?', '?', '?')}\n",
      "\n",
      " S[1]: {('Sunny', 'Warm', 'Normal', 'Strong', 'Warn', 'Same ')}\n",
      " G[1]: {('?', '?', '?', '?', '?', '?')}\n",
      "\n",
      " S[2]: {('Sunny', 'Warm', '?', 'Strong', 'Warn', 'Same ')}\n",
      " G[2]: {('?', '?', '?', '?', '?', '?')}\n",
      "\n",
      " S[3]: {('Sunny', 'Warm', '?', 'Strong', 'Warn', 'Same ')}\n",
      " G[3]: {('Sunny', '?', '?', '?', '?', '?'), ('?', 'Warm', '?', '?', '?', '?'), ('?', '?', '?', '?', '?', 'Same ')}\n",
      "\n",
      " S[4]: {('Sunny', 'Warm', '?', 'Strong', '?', '?')}\n",
      " G[4]: {('Sunny', '?', '?', '?', '?', '?'), ('?', 'Warm', '?', '?', '?', '?')}\n"
     ]
    }
   ],
   "source": [
    "domains = get_domains(examples)[:-1]\n",
    "\n",
    "G = set([g_0(len(domains))])\n",
    "S = set([s_0(len(domains))])\n",
    "\n",
    "i=0\n",
    "print(f'\\n S[{i}]: {S}')\n",
    "print(f'G[{i}]: {G}')\n",
    "\n",
    "for xcx in examples:\n",
    "    i = i+1\n",
    "    xcx = list(xcx)\n",
    "    \n",
    "    x,cx = xcx[:-1], xcx[-1]\n",
    "    if cx=='Y':\n",
    "        G = {g for g in G if fulfills(x, g)}\n",
    "        S = generalize_S(x, G, S)\n",
    "        \n",
    "    else:\n",
    "        S = {s for s in S if not fulfills(x, s)}\n",
    "        G = specialize_G(x, domains, G, S)\n",
    "        \n",
    "    print(f'\\n S[{i}]: {S}')\n",
    "    print(f' G[{i}]: {G}')\n",
    "        "
   ]
  },
  {
   "cell_type": "code",
   "execution_count": null,
   "id": "b781a29d",
   "metadata": {},
   "outputs": [],
   "source": []
  }
 ],
 "metadata": {
  "kernelspec": {
   "display_name": "Python 3 (ipykernel)",
   "language": "python",
   "name": "python3"
  },
  "language_info": {
   "codemirror_mode": {
    "name": "ipython",
    "version": 3
   },
   "file_extension": ".py",
   "mimetype": "text/x-python",
   "name": "python",
   "nbconvert_exporter": "python",
   "pygments_lexer": "ipython3",
   "version": "3.9.13"
  }
 },
 "nbformat": 4,
 "nbformat_minor": 5
}
